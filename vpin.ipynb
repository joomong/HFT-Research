{
 "cells": [
  {
   "cell_type": "code",
   "execution_count": 1,
   "metadata": {},
   "outputs": [],
   "source": [
    "import numpy as np\n",
    "import pandas as pd\n",
    "import seaborn as sns\n",
    "import matplotlib.pyplot as plt\n",
    "from scipy.optimize import minimize , basinhopping\n",
    "from scipy.stats import poisson"
   ]
  },
  {
   "cell_type": "code",
   "execution_count": 2,
   "metadata": {},
   "outputs": [
    {
     "data": {
      "text/html": [
       "<div>\n",
       "<style scoped>\n",
       "    .dataframe tbody tr th:only-of-type {\n",
       "        vertical-align: middle;\n",
       "    }\n",
       "\n",
       "    .dataframe tbody tr th {\n",
       "        vertical-align: top;\n",
       "    }\n",
       "\n",
       "    .dataframe thead th {\n",
       "        text-align: right;\n",
       "    }\n",
       "</style>\n",
       "<table border=\"1\" class=\"dataframe\">\n",
       "  <thead>\n",
       "    <tr style=\"text-align: right;\">\n",
       "      <th></th>\n",
       "      <th>trade_id</th>\n",
       "      <th>price</th>\n",
       "      <th>quantity</th>\n",
       "      <th>order_id</th>\n",
       "      <th>timestamp</th>\n",
       "      <th>is_buyer_maker</th>\n",
       "    </tr>\n",
       "  </thead>\n",
       "  <tbody>\n",
       "    <tr>\n",
       "      <th>0</th>\n",
       "      <td>3765419375</td>\n",
       "      <td>27680.0</td>\n",
       "      <td>0.400</td>\n",
       "      <td>11072.0000</td>\n",
       "      <td>1685491200110</td>\n",
       "      <td>True</td>\n",
       "    </tr>\n",
       "    <tr>\n",
       "      <th>1</th>\n",
       "      <td>3765419376</td>\n",
       "      <td>27680.0</td>\n",
       "      <td>0.006</td>\n",
       "      <td>166.0800</td>\n",
       "      <td>1685491200156</td>\n",
       "      <td>True</td>\n",
       "    </tr>\n",
       "    <tr>\n",
       "      <th>2</th>\n",
       "      <td>3765419377</td>\n",
       "      <td>27680.0</td>\n",
       "      <td>0.300</td>\n",
       "      <td>8304.0000</td>\n",
       "      <td>1685491200157</td>\n",
       "      <td>True</td>\n",
       "    </tr>\n",
       "    <tr>\n",
       "      <th>3</th>\n",
       "      <td>3765419378</td>\n",
       "      <td>27680.1</td>\n",
       "      <td>0.003</td>\n",
       "      <td>83.0403</td>\n",
       "      <td>1685491200244</td>\n",
       "      <td>False</td>\n",
       "    </tr>\n",
       "    <tr>\n",
       "      <th>4</th>\n",
       "      <td>3765419379</td>\n",
       "      <td>27680.1</td>\n",
       "      <td>0.003</td>\n",
       "      <td>83.0403</td>\n",
       "      <td>1685491203809</td>\n",
       "      <td>False</td>\n",
       "    </tr>\n",
       "  </tbody>\n",
       "</table>\n",
       "</div>"
      ],
      "text/plain": [
       "     trade_id    price  quantity    order_id      timestamp  is_buyer_maker\n",
       "0  3765419375  27680.0     0.400  11072.0000  1685491200110            True\n",
       "1  3765419376  27680.0     0.006    166.0800  1685491200156            True\n",
       "2  3765419377  27680.0     0.300   8304.0000  1685491200157            True\n",
       "3  3765419378  27680.1     0.003     83.0403  1685491200244           False\n",
       "4  3765419379  27680.1     0.003     83.0403  1685491203809           False"
      ]
     },
     "execution_count": 2,
     "metadata": {},
     "output_type": "execute_result"
    }
   ],
   "source": [
    "header = ['trade_id','price','quantity','order_id','timestamp','is_buyer_maker']\n",
    "df = pd.read_csv('./BTCUSDT-trades-2023-05-31.csv',header=0 , names = header)\n",
    "df.head()"
   ]
  },
  {
   "cell_type": "code",
   "execution_count": 5,
   "metadata": {},
   "outputs": [],
   "source": [
    "def calculate_vpin(df, window_size):\n",
    "    signed_quantity = df['quantity'].values * np.where(df['is_buyer_maker'].values, 1, -1)\n",
    "    cumulative_volume = np.cumsum(signed_quantity)\n",
    "    signed_volume = np.cumsum(signed_quantity)\n",
    "\n",
    "    vpin_values = []\n",
    "\n",
    "    for i in range(window_size, len(df)):\n",
    "        volume_in_window = signed_volume[i - window_size:i]\n",
    "        total_volume = np.sum(np.abs(volume_in_window))\n",
    "        buyer_volume = np.sum(volume_in_window[volume_in_window > 0])\n",
    "        seller_volume = np.sum(volume_in_window[volume_in_window < 0])\n",
    "\n",
    "        if total_volume > 0:\n",
    "            vpin = (buyer_volume - seller_volume) / total_volume\n",
    "        else:\n",
    "            vpin = 0\n",
    "\n",
    "        vpin_values.append(vpin)\n",
    "\n",
    "    df['vpin'] = np.concatenate((np.full(window_size, np.nan), vpin_values))\n",
    "    return df"
   ]
  },
  {
   "cell_type": "code",
   "execution_count": 6,
   "metadata": {},
   "outputs": [],
   "source": [
    "# VPIN을 계산합니다. 윈도우 크기는 100으로 설정합니다.\n",
    "window_size = 100\n",
    "df = calculate_vpin(df, window_size)"
   ]
  }
 ],
 "metadata": {
  "kernelspec": {
   "display_name": "mm",
   "language": "python",
   "name": "python3"
  },
  "language_info": {
   "codemirror_mode": {
    "name": "ipython",
    "version": 3
   },
   "file_extension": ".py",
   "mimetype": "text/x-python",
   "name": "python",
   "nbconvert_exporter": "python",
   "pygments_lexer": "ipython3",
   "version": "3.10.10"
  },
  "orig_nbformat": 4
 },
 "nbformat": 4,
 "nbformat_minor": 2
}
