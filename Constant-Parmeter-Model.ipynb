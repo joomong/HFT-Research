{
 "cells": [
  {
   "cell_type": "code",
   "execution_count": 4,
   "metadata": {},
   "outputs": [],
   "source": [
    "import numpy as np\n",
    "import pandas as pd\n",
    "import matplotlib.pyplot as plt"
   ]
  },
  {
   "cell_type": "code",
   "execution_count": null,
   "metadata": {},
   "outputs": [],
   "source": [
    "df = pd.read_csv('data.csv')\n",
    "df.head()"
   ]
  },
  {
   "cell_type": "code",
   "execution_count": null,
   "metadata": {},
   "outputs": [],
   "source": []
  },
  {
   "attachments": {},
   "cell_type": "markdown",
   "metadata": {},
   "source": [
    "# 1. Probability of Execution "
   ]
  },
  {
   "attachments": {},
   "cell_type": "markdown",
   "metadata": {},
   "source": [
    "## 1.1 Market Impact Model\n",
    "\n",
    "The market impact model suggested by the Kyle.  The model is based on the following assumptions:   \n",
    "\n",
    "$$ \\Delta r_t = K ln(Q)$$ \n",
    "\n",
    "where $K$ is the market impact parameter, $Q$ is the order quantity during that time period $dt$ and $r_t$ is log return of the stock price.   "
   ]
  },
  {
   "cell_type": "code",
   "execution_count": null,
   "metadata": {},
   "outputs": [],
   "source": []
  },
  {
   "attachments": {},
   "cell_type": "markdown",
   "metadata": {},
   "source": [
    "## 1.2 Market Order Distribution \n",
    "\n",
    "In the econophysics literture, the market order quantity is often assumed to follow a power law distribution.  \n",
    "The power law distribution is defined as:  \n",
    "$$ \\mathbb {P(x)} \\propto x^{-1 -\\alpha}$$  \n",
    "where $\\alpha$ is the exponent of the power law distribution. But you have notice that the probability distribution function is not normalized.  \n",
    "To normalize the distribution, we need to integrate the distribution function. The result is:  \n",
    "\n",
    "$$ \\mathbb {P(x)} = \\frac{\\alpha x_{\\mathrm{m}}^\\alpha}{x^{\\alpha+1}}$$  \n",
    "that is Pareto distribution."
   ]
  },
  {
   "cell_type": "code",
   "execution_count": null,
   "metadata": {},
   "outputs": [],
   "source": []
  },
  {
   "attachments": {},
   "cell_type": "markdown",
   "metadata": {},
   "source": [
    "## 1.3 Probability of Execution\n",
    "\n",
    "Now we can calculate the probability of execution of market making agent's limit order(LO).   \n",
    "Let us assume that LO is executed if mid-price moves over her LO. It can be expressed as:  $ \\mathbb {P(\\Delta r > \\delta)}$   \n",
    "\n",
    "\n",
    "Then using the market impact model, we can rewrite the probability of execution as:\n",
    "$$\\begin{aligned}\n",
    "\\lambda(\\delta) & =\\Lambda P(\\Delta p>\\delta) \\\\\n",
    "& =\\Lambda P(\\ln (Q)>K \\delta) \\\\\n",
    "& =\\Lambda P(Q>\\exp (K \\delta)) \\\\\n",
    "& =\\Lambda \\alpha x_{min}^{\\alpha}\\int_{\\exp (K \\delta)}^{\\infty} x^{-1-\\alpha} \\mathrm{d} x \\\\\n",
    "& =A \\exp (-k \\delta)\n",
    "\\end{aligned} $$\n",
    "where $A = \\Lambda  x_{min}^{\\alpha}$ and $k = \\alpha  K$ and $\\Lambda$ is market order frequency of buy or sell .\n",
    "\n"
   ]
  },
  {
   "cell_type": "code",
   "execution_count": null,
   "metadata": {},
   "outputs": [],
   "source": []
  },
  {
   "attachments": {},
   "cell_type": "markdown",
   "metadata": {},
   "source": [
    "# 2. Parameter Estimation of Mid-price model"
   ]
  },
  {
   "attachments": {},
   "cell_type": "markdown",
   "metadata": {},
   "source": [
    "## 2.1 Geometric Brownian Motion\n",
    "\n",
    "Geometric Brownian Motion (GBM) is a stochastic process that describes the evolution of a stock price.   \n",
    "The log return of the stock at time $t$ is given by the following equation\n",
    "$$\\frac{dS_t}{S_t} = \\mu dt + \\sigma dW_t$$\n",
    "Then we can solve SDE to get the stock price at time $t$:\n",
    "$$S_t = S_0 \\exp \\left( \\left( \\mu - \\frac{\\sigma^2}{2} \\right) t + \\sigma W_t \\right)$$\n",
    "$$ log(\\frac{S_T}{S_t}) \\sim \\mathcal{N}()$$\n",
    "where $S_0$ is the initial stock price, $\\mu$ is the drift, $\\sigma$ is the volatility, and $W_t$ is a standard Brownian motion. The drift and volatility are constant parameters."
   ]
  },
  {
   "cell_type": "code",
   "execution_count": null,
   "metadata": {},
   "outputs": [],
   "source": []
  },
  {
   "attachments": {},
   "cell_type": "markdown",
   "metadata": {},
   "source": [
    "## 2.2 Merton's jump diffusion diffusion\n",
    "\n",
    "In real world, the distribution of stock price is not normal.   \n",
    "It is more likely to have a fat tail.   \n",
    "This is because of the jump diffusion process.\n",
    "\n",
    "Geometric Brownian Motion with jump diffusion follows SDE below:  \n",
    "$$\\frac{dS_t}{S_t} = \\mu dt + \\sigma dW_t + \\xi dN_{t}^a - \\xi dN_{t}^b$$   \n",
    "where $\\xi \\gt 0$ and $dN_{t}^a$ is the number of jumps that occur in the interval $(t, t+dt)$."
   ]
  },
  {
   "cell_type": "code",
   "execution_count": null,
   "metadata": {},
   "outputs": [],
   "source": []
  },
  {
   "attachments": {},
   "cell_type": "markdown",
   "metadata": {},
   "source": [
    "# 3. Optimal Market Making Strategy\n",
    "\n",
    "The inventory of the market maker is the difference between the number of buy orders and the number of sell orders. i.e ) \n",
    "$$q_t = N_t^b - N_t^a$$  \n",
    "$N_t^{a}$ and $N_t^{b}$ are point processes.\n",
    "\n",
    "In original paper, the inventory process is given by the following equation:\n",
    "$d X_t=\\left(S_t+\\delta_t^a\\right) d N_t^a-\\left(S_t-\\delta_t^b\\right) d N_t^b$ .  \n",
    "\n",
    "But our model is dimensionless. Thus, cash process is given by the following equation:  \n",
    "$$d X_t=S_t \\left(1+\\delta_t^a\\right) d N_t^a- S_t \\left(1-\\delta_t^b\\right) d N_t^b$$   \n",
    "\n",
    "Our goal is to find the maximize objective function below: \n",
    "$$\\sup _{\\left(\\delta_t^a\\right)_t,\\left(\\delta_t^b\\right)_t \\in \\mathcal{A}} \\mathbb{E}\\left[-\\exp \\left(-\\gamma\\left(X_T+q_T S_T\\right)\\right)\\right]$$\n",
    "where $\\gamma$ is the risk aversion parameter in CARA utility function , $\\mathcal{A}$ is set of predictable processes bounded from below,.\n"
   ]
  },
  {
   "cell_type": "code",
   "execution_count": null,
   "metadata": {},
   "outputs": [],
   "source": []
  },
  {
   "attachments": {},
   "cell_type": "markdown",
   "metadata": {},
   "source": [
    "## 3.1 HJB Equation\n",
    "\n",
    "For $|q|<Q$ :\n",
    "$$\n",
    "\\begin{gathered}\n",
    "\\partial_t u(t, x, q, s)+\\frac{1}{2} \\sigma^2 \\partial_{s s}^2 u(t, x, q, s) \\\\\n",
    "+\\sup _{\\delta^b} \\lambda^b\\left(\\delta^b\\right)\\left[u\\left(t, x-s+\\delta^b, q+1, s\\right)-u(t, x, q, s)\\right] \\\\\n",
    "+\\sup _{\\delta^a} \\lambda^a\\left(\\delta^a\\right)\\left[u\\left(t, x+s+\\delta^a, q-1, s\\right)-u(t, x, q, s)\\right]=0\n",
    "\\end{gathered}\n",
    "$$\n",
    "For $q=Q$ :\n",
    "$$\n",
    "\\begin{gathered}\n",
    "\\partial_t u(t, x, Q, s)+\\frac{1}{2} \\sigma^2 \\partial_{s s}^2 u(t, x, Q, s) \\\\\n",
    "+\\sup _{\\delta^a} \\lambda^a\\left(\\delta^a\\right)\\left[u\\left(t, x+s+\\delta^a, Q-1, s\\right)-u(t, x, Q, s)\\right]=0\n",
    "\\end{gathered}\n",
    "$$\n",
    "For $q=-Q$ :\n",
    "$$\n",
    "\\begin{gathered}\n",
    "\\partial_t u(t, x,-Q, s)+\\frac{1}{2} \\sigma^2 \\partial_{s s}^2 u(t, x,-Q, s) \\\\\n",
    "+\\sup _{\\delta^b} \\lambda^b\\left(\\delta^b\\right)\\left[u\\left(t, x-s+\\delta^b,-Q+1, s\\right)-u(t, x,-Q, s)\\right]=0\n",
    "\\end{gathered}\n",
    "$$\n",
    "with the final condition:\n",
    "$$\n",
    "\\forall q \\in\\{-Q, \\ldots, Q\\}, \\quad u(T, x, q, s)=-\\exp (-\\gamma(x+q s))\n",
    "$$\n"
   ]
  },
  {
   "cell_type": "code",
   "execution_count": null,
   "metadata": {},
   "outputs": [],
   "source": []
  },
  {
   "attachments": {},
   "cell_type": "markdown",
   "metadata": {},
   "source": [
    "References \n",
    "1. https://arxiv.org/pdf/1906.02260.pdf\n",
    "2. https://arxiv.org/pdf/1906.02260.pdf"
   ]
  }
 ],
 "metadata": {
  "kernelspec": {
   "display_name": "mm",
   "language": "python",
   "name": "python3"
  },
  "language_info": {
   "codemirror_mode": {
    "name": "ipython",
    "version": 3
   },
   "file_extension": ".py",
   "mimetype": "text/x-python",
   "name": "python",
   "nbconvert_exporter": "python",
   "pygments_lexer": "ipython3",
   "version": "3.10.10"
  },
  "orig_nbformat": 4
 },
 "nbformat": 4,
 "nbformat_minor": 2
}
